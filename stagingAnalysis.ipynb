{
 "cells": [
  {
   "cell_type": "code",
   "execution_count": 1,
   "metadata": {},
   "outputs": [
    {
     "data": {
      "text/plain": [
       "polars.config.Config"
      ]
     },
     "execution_count": 1,
     "metadata": {},
     "output_type": "execute_result"
    }
   ],
   "source": [
    "import re\n",
    "import polars as pl\n",
    "pl.Config.set_tbl_rows(None)"
   ]
  },
  {
   "cell_type": "code",
   "execution_count": 2,
   "metadata": {},
   "outputs": [],
   "source": [
    "pattern = re.compile(\n",
    "    r\"\\[info\\] (?:\\w+)\\.([^\\s:]+)(?::([\\w\\.\\-]+))?\\s+thrpt\\s+\\d+\\s+(≈?\\s*\\S+)(?:\\s±\\s+([\\d\\.]+))?\\s+(\\S+)\"\n",
    ")\n",
    "\n",
    "def unicode_superscript_to_float(s: str) -> float:\n",
    "    \"\"\"\n",
    "    Converts a string like '10⁻⁶' or '≈ 10⁻⁵' into a float (e.g., 1e-6).\n",
    "    \"\"\"\n",
    "    superscripts = {\n",
    "        '⁰': '0', '¹': '1', '²': '2', '³': '3',\n",
    "        '⁴': '4', '⁵': '5', '⁶': '6', '⁷': '7', '⁸': '8', '⁹': '9',\n",
    "        '⁻': '-', '⁺': '+'\n",
    "    }\n",
    "    s = s.replace('≈', '').strip()\n",
    "    if '10' in s:\n",
    "        base, power = s.split('10')\n",
    "        exp = ''.join(superscripts.get(ch, '') for ch in power)\n",
    "        return float(f\"1e{exp}\")\n",
    "    return float(s)\n",
    "\n",
    "# Regex pattern for extracting rows\n",
    "def parse_jmh(raw_jmh: str) -> pl.DataFrame:\n",
    "    rows = []\n",
    "    for m in pattern.finditer(raw_jmh):\n",
    "        benchmark = m.group(1)\n",
    "        metric = m.group(2) or \"throughput\"\n",
    "        val_str = m.group(3).strip()\n",
    "        try:\n",
    "            value = float(val_str.replace(\"≈\", \"\"))\n",
    "        except ValueError:\n",
    "            value = unicode_superscript_to_float(val_str)\n",
    "        error = float(m.group(4)) if m.group(4) else None\n",
    "        unit = m.group(5)\n",
    "        rows.append((benchmark, metric, value, error, unit))\n",
    "\n",
    "\n",
    "    # Create Polars DataFrame\n",
    "    df = pl.DataFrame(rows, schema=[\"benchmark\", \"metric\", \"value\", \"error\", \"unit\"])\n",
    "    return df"
   ]
  },
  {
   "cell_type": "code",
   "execution_count": 3,
   "metadata": {},
   "outputs": [
    {
     "name": "stdout",
     "output_type": "stream",
     "text": [
      "shape: (21, 5)\n",
      "┌──────────────────────────┬────────────────────┬────────────┬──────────┬────────┐\n",
      "│ benchmark                ┆ metric             ┆ value      ┆ error    ┆ unit   │\n",
      "│ ---                      ┆ ---                ┆ ---        ┆ ---      ┆ ---    │\n",
      "│ str                      ┆ str                ┆ f64        ┆ f64      ┆ str    │\n",
      "╞══════════════════════════╪════════════════════╪════════════╪══════════╪════════╡\n",
      "│ matchAlternationFailLate ┆ throughput         ┆ 126.484    ┆ 4.582    ┆ ops/ms │\n",
      "│ matchAlternationFailLate ┆ gc.alloc.rate      ┆ 0.001      ┆ 0.001    ┆ MB/sec │\n",
      "│ matchAlternationFailLate ┆ gc.alloc.rate.norm ┆ 0.004      ┆ 0.001    ┆ B/op   │\n",
      "│ matchAlternationFailLate ┆ gc.count           ┆ 0.0        ┆ null     ┆ counts │\n",
      "│ matchAlternationHit      ┆ throughput         ┆ 205597.701 ┆ 5626.293 ┆ ops/ms │\n",
      "│ …                        ┆ …                  ┆ …          ┆ …        ┆ …      │\n",
      "│ matchBigClass            ┆ gc.time            ┆ 171.0      ┆ null     ┆ ms     │\n",
      "│ matchFailLargeClass      ┆ throughput         ┆ 88196.591  ┆ 1032.987 ┆ ops/ms │\n",
      "│ matchFailLargeClass      ┆ gc.alloc.rate      ┆ 0.001      ┆ 0.001    ┆ MB/sec │\n",
      "│ matchFailLargeClass      ┆ gc.alloc.rate.norm ┆ 0.00001    ┆ null     ┆ B/op   │\n",
      "│ matchFailLargeClass      ┆ gc.count           ┆ 0.0        ┆ null     ┆ counts │\n",
      "└──────────────────────────┴────────────────────┴────────────┴──────────┴────────┘\n"
     ]
    },
    {
     "name": "stderr",
     "output_type": "stream",
     "text": [
      "/var/folders/vd/3qxwhj0s52bfzjbgt10xczn00000gn/T/ipykernel_41964/2346540513.py:38: DataOrientationWarning: Row orientation inferred during DataFrame construction. Explicitly specify the orientation by passing `orient=\"row\"` to silence this warning.\n",
      "  df = pl.DataFrame(rows, schema=[\"benchmark\", \"metric\", \"value\", \"error\", \"unit\"])\n"
     ]
    }
   ],
   "source": [
    "raw_jmh_prog = \"\"\"\n",
    "[info] BacktrackBenchmark.matchAlternationFailLate                     thrpt   10     126.484 ±    4.582  ops/ms\n",
    "[info] BacktrackBenchmark.matchAlternationFailLate:gc.alloc.rate       thrpt   10       0.001 ±    0.001  MB/sec\n",
    "[info] BacktrackBenchmark.matchAlternationFailLate:gc.alloc.rate.norm  thrpt   10       0.004 ±    0.001    B/op\n",
    "[info] BacktrackBenchmark.matchAlternationFailLate:gc.count            thrpt   10         ≈ 0             counts\n",
    "[info] BacktrackBenchmark.matchAlternationHit                          thrpt   10  205597.701 ± 5626.293  ops/ms\n",
    "[info] BacktrackBenchmark.matchAlternationHit:gc.alloc.rate            thrpt   10       0.001 ±    0.001  MB/sec\n",
    "[info] BacktrackBenchmark.matchAlternationHit:gc.alloc.rate.norm       thrpt   10      ≈ 10⁻⁶               B/op\n",
    "[info] BacktrackBenchmark.matchAlternationHit:gc.count                 thrpt   10         ≈ 0             counts\n",
    "[info] BacktrackBenchmark.matchBacktrackTrap                           thrpt   10   34317.522 ± 1503.136  ops/ms\n",
    "[info] BacktrackBenchmark.matchBacktrackTrap:gc.alloc.rate             thrpt   10       0.001 ±    0.001  MB/sec\n",
    "[info] BacktrackBenchmark.matchBacktrackTrap:gc.alloc.rate.norm        thrpt   10      ≈ 10⁻⁵               B/op\n",
    "[info] BacktrackBenchmark.matchBacktrackTrap:gc.count                  thrpt   10         ≈ 0             counts\n",
    "[info] BacktrackBenchmark.matchBigClass                                thrpt   10    4101.543 ±  281.476  ops/ms\n",
    "[info] BacktrackBenchmark.matchBigClass:gc.alloc.rate                  thrpt   10   15400.969 ± 1050.835  MB/sec\n",
    "[info] BacktrackBenchmark.matchBigClass:gc.alloc.rate.norm             thrpt   10    3944.000 ±    0.001    B/op\n",
    "[info] BacktrackBenchmark.matchBigClass:gc.count                       thrpt   10     317.000             counts\n",
    "[info] BacktrackBenchmark.matchBigClass:gc.time                        thrpt   10     171.000                 ms\n",
    "[info] BacktrackBenchmark.matchFailLargeClass                          thrpt   10   88196.591 ± 1032.987  ops/ms\n",
    "[info] BacktrackBenchmark.matchFailLargeClass:gc.alloc.rate            thrpt   10       0.001 ±    0.001  MB/sec\n",
    "[info] BacktrackBenchmark.matchFailLargeClass:gc.alloc.rate.norm       thrpt   10      ≈ 10⁻⁵               B/op\n",
    "[info] BacktrackBenchmark.matchFailLargeClass:gc.count                 thrpt   10         ≈ 0             counts\n",
    "\"\"\"\n",
    "\n",
    "prog_df = parse_jmh(raw_jmh_prog)\n",
    "print(prog_df)"
   ]
  },
  {
   "cell_type": "code",
   "execution_count": 4,
   "metadata": {},
   "outputs": [
    {
     "name": "stdout",
     "output_type": "stream",
     "text": [
      "shape: (25, 5)\n",
      "┌──────────────────────────┬────────────────────┬───────────┬───────────┬────────┐\n",
      "│ benchmark                ┆ metric             ┆ value     ┆ error     ┆ unit   │\n",
      "│ ---                      ┆ ---                ┆ ---       ┆ ---       ┆ ---    │\n",
      "│ str                      ┆ str                ┆ f64       ┆ f64       ┆ str    │\n",
      "╞══════════════════════════╪════════════════════╪═══════════╪═══════════╪════════╡\n",
      "│ matchAlternationFailLate ┆ throughput         ┆ 113.044   ┆ 2.584     ┆ ops/ms │\n",
      "│ matchAlternationFailLate ┆ gc.alloc.rate      ┆ 1.725     ┆ 0.04      ┆ MB/sec │\n",
      "│ matchAlternationFailLate ┆ gc.alloc.rate.norm ┆ 16.005    ┆ 0.001     ┆ B/op   │\n",
      "│ matchAlternationFailLate ┆ gc.count           ┆ 2.0       ┆ null      ┆ counts │\n",
      "│ matchAlternationFailLate ┆ gc.time            ┆ 3.0       ┆ null      ┆ ms     │\n",
      "│ …                        ┆ …                  ┆ …         ┆ …         ┆ …      │\n",
      "│ matchFailLargeClass      ┆ throughput         ┆ 63218.455 ┆ 10133.051 ┆ ops/ms │\n",
      "│ matchFailLargeClass      ┆ gc.alloc.rate      ┆ 964.343   ┆ 154.8     ┆ MB/sec │\n",
      "│ matchFailLargeClass      ┆ gc.alloc.rate.norm ┆ 16.0      ┆ 0.001     ┆ B/op   │\n",
      "│ matchFailLargeClass      ┆ gc.count           ┆ 116.0     ┆ null      ┆ counts │\n",
      "│ matchFailLargeClass      ┆ gc.time            ┆ 36.0      ┆ null      ┆ ms     │\n",
      "└──────────────────────────┴────────────────────┴───────────┴───────────┴────────┘\n"
     ]
    },
    {
     "name": "stderr",
     "output_type": "stream",
     "text": [
      "/var/folders/vd/3qxwhj0s52bfzjbgt10xczn00000gn/T/ipykernel_41964/2346540513.py:38: DataOrientationWarning: Row orientation inferred during DataFrame construction. Explicitly specify the orientation by passing `orient=\"row\"` to silence this warning.\n",
      "  df = pl.DataFrame(rows, schema=[\"benchmark\", \"metric\", \"value\", \"error\", \"unit\"])\n"
     ]
    }
   ],
   "source": [
    "raw_jmh_cps = \"\"\"\n",
    "[info] Benchmark                                                        Mode  Cnt       Score       Error   Units\n",
    "[info] BacktrackBenchmark.matchAlternationFailLate                     thrpt   10     113.044 ±     2.584  ops/ms\n",
    "[info] BacktrackBenchmark.matchAlternationFailLate:gc.alloc.rate       thrpt   10       1.725 ±     0.040  MB/sec\n",
    "[info] BacktrackBenchmark.matchAlternationFailLate:gc.alloc.rate.norm  thrpt   10      16.005 ±     0.001    B/op\n",
    "[info] BacktrackBenchmark.matchAlternationFailLate:gc.count            thrpt   10       2.000              counts\n",
    "[info] BacktrackBenchmark.matchAlternationFailLate:gc.time             thrpt   10       3.000                  ms\n",
    "[info] BacktrackBenchmark.matchAlternationHit                          thrpt   10  163264.809 ± 10929.579  ops/ms\n",
    "[info] BacktrackBenchmark.matchAlternationHit:gc.alloc.rate            thrpt   10    2489.246 ±   169.564  MB/sec\n",
    "[info] BacktrackBenchmark.matchAlternationHit:gc.alloc.rate.norm       thrpt   10      16.000 ±     0.001    B/op\n",
    "[info] BacktrackBenchmark.matchAlternationHit:gc.count                 thrpt   10     144.000              counts\n",
    "[info] BacktrackBenchmark.matchAlternationHit:gc.time                  thrpt   10      77.000                  ms\n",
    "[info] BacktrackBenchmark.matchBacktrackTrap                           thrpt   10   33376.408 ±  2421.052  ops/ms\n",
    "[info] BacktrackBenchmark.matchBacktrackTrap:gc.alloc.rate             thrpt   10     509.033 ±    36.999  MB/sec\n",
    "[info] BacktrackBenchmark.matchBacktrackTrap:gc.alloc.rate.norm        thrpt   10      16.000 ±     0.001    B/op\n",
    "[info] BacktrackBenchmark.matchBacktrackTrap:gc.count                  thrpt   10      61.000              counts\n",
    "[info] BacktrackBenchmark.matchBacktrackTrap:gc.time                   thrpt   10      23.000                  ms\n",
    "[info] BacktrackBenchmark.matchBigClass                                thrpt   10    4046.940 ±   384.816  ops/ms\n",
    "[info] BacktrackBenchmark.matchBigClass:gc.alloc.rate                  thrpt   10   15271.827 ±  1459.557  MB/sec\n",
    "[info] BacktrackBenchmark.matchBigClass:gc.alloc.rate.norm             thrpt   10    3960.000 ±     0.001    B/op\n",
    "[info] BacktrackBenchmark.matchBigClass:gc.count                       thrpt   10     317.000              counts\n",
    "[info] BacktrackBenchmark.matchBigClass:gc.time                        thrpt   10     182.000                  ms\n",
    "[info] BacktrackBenchmark.matchFailLargeClass                          thrpt   10   63218.455 ± 10133.051  ops/ms\n",
    "[info] BacktrackBenchmark.matchFailLargeClass:gc.alloc.rate            thrpt   10     964.343 ±   154.800  MB/sec\n",
    "[info] BacktrackBenchmark.matchFailLargeClass:gc.alloc.rate.norm       thrpt   10      16.000 ±     0.001    B/op\n",
    "[info] BacktrackBenchmark.matchFailLargeClass:gc.count                 thrpt   10     116.000              counts\n",
    "[info] BacktrackBenchmark.matchFailLargeClass:gc.time                  thrpt   10      36.000                  ms\n",
    "\"\"\"\n",
    "\n",
    "cps_df = parse_jmh(raw_jmh_cps)\n",
    "print(cps_df)"
   ]
  },
  {
   "cell_type": "code",
   "execution_count": 5,
   "metadata": {},
   "outputs": [
    {
     "name": "stdout",
     "output_type": "stream",
     "text": [
      "shape: (25, 5)\n",
      "┌──────────────────────────┬────────────────────┬───────────┬─────────┬────────┐\n",
      "│ benchmark                ┆ metric             ┆ value     ┆ error   ┆ unit   │\n",
      "│ ---                      ┆ ---                ┆ ---       ┆ ---     ┆ ---    │\n",
      "│ str                      ┆ str                ┆ f64       ┆ f64     ┆ str    │\n",
      "╞══════════════════════════╪════════════════════╪═══════════╪═════════╪════════╡\n",
      "│ matchAlternationFailLate ┆ throughput         ┆ 26.803    ┆ 0.878   ┆ ops/ms │\n",
      "│ matchAlternationFailLate ┆ gc.alloc.rate      ┆ 532.539   ┆ 17.473  ┆ MB/sec │\n",
      "│ matchAlternationFailLate ┆ gc.alloc.rate.norm ┆ 20840.021 ┆ 0.002   ┆ B/op   │\n",
      "│ matchAlternationFailLate ┆ gc.count           ┆ 63.0      ┆ null    ┆ counts │\n",
      "│ matchAlternationFailLate ┆ gc.time            ┆ 24.0      ┆ null    ┆ ms     │\n",
      "│ …                        ┆ …                  ┆ …         ┆ …       ┆ …      │\n",
      "│ matchFailLargeClass      ┆ throughput         ┆ 23999.821 ┆ 941.262 ┆ ops/ms │\n",
      "│ matchFailLargeClass      ┆ gc.alloc.rate      ┆ 2929.0    ┆ 115.151 ┆ MB/sec │\n",
      "│ matchFailLargeClass      ┆ gc.alloc.rate.norm ┆ 128.0     ┆ 0.001   ┆ B/op   │\n",
      "│ matchFailLargeClass      ┆ gc.count           ┆ 154.0     ┆ null    ┆ counts │\n",
      "│ matchFailLargeClass      ┆ gc.time            ┆ 74.0      ┆ null    ┆ ms     │\n",
      "└──────────────────────────┴────────────────────┴───────────┴─────────┴────────┘\n"
     ]
    },
    {
     "name": "stderr",
     "output_type": "stream",
     "text": [
      "/var/folders/vd/3qxwhj0s52bfzjbgt10xczn00000gn/T/ipykernel_41964/2346540513.py:38: DataOrientationWarning: Row orientation inferred during DataFrame construction. Explicitly specify the orientation by passing `orient=\"row\"` to silence this warning.\n",
      "  df = pl.DataFrame(rows, schema=[\"benchmark\", \"metric\", \"value\", \"error\", \"unit\"])\n"
     ]
    }
   ],
   "source": [
    "raw_jmh_javaimpl = \"\"\"\n",
    "[info] Benchmark                                                        Mode  Cnt      Score     Error   Units\n",
    "[info] BacktrackBenchmark.matchAlternationFailLate                     thrpt   10     26.803 ±   0.878  ops/ms\n",
    "[info] BacktrackBenchmark.matchAlternationFailLate:gc.alloc.rate       thrpt   10    532.539 ±  17.473  MB/sec\n",
    "[info] BacktrackBenchmark.matchAlternationFailLate:gc.alloc.rate.norm  thrpt   10  20840.021 ±   0.002    B/op\n",
    "[info] BacktrackBenchmark.matchAlternationFailLate:gc.count            thrpt   10     63.000            counts\n",
    "[info] BacktrackBenchmark.matchAlternationFailLate:gc.time             thrpt   10     24.000                ms\n",
    "[info] BacktrackBenchmark.matchAlternationHit                          thrpt   10  20701.254 ± 538.638  ops/ms\n",
    "[info] BacktrackBenchmark.matchAlternationHit:gc.alloc.rate            thrpt   10   4105.053 ± 106.697  MB/sec\n",
    "[info] BacktrackBenchmark.matchAlternationHit:gc.alloc.rate.norm       thrpt   10    208.000 ±   0.001    B/op\n",
    "[info] BacktrackBenchmark.matchAlternationHit:gc.count                 thrpt   10    201.000            counts\n",
    "[info] BacktrackBenchmark.matchAlternationHit:gc.time                  thrpt   10     90.000                ms\n",
    "[info] BacktrackBenchmark.matchBacktrackTrap                           thrpt   10   3663.638 ± 172.075  ops/ms\n",
    "[info] BacktrackBenchmark.matchBacktrackTrap:gc.alloc.rate             thrpt   10   1536.835 ±  72.455  MB/sec\n",
    "[info] BacktrackBenchmark.matchBacktrackTrap:gc.alloc.rate.norm        thrpt   10    440.000 ±   0.001    B/op\n",
    "[info] BacktrackBenchmark.matchBacktrackTrap:gc.count                  thrpt   10    115.000            counts\n",
    "[info] BacktrackBenchmark.matchBacktrackTrap:gc.time                   thrpt   10     43.000                ms\n",
    "[info] BacktrackBenchmark.matchBigClass                                thrpt   10   9379.212 ± 190.450  ops/ms\n",
    "[info] BacktrackBenchmark.matchBigClass:gc.alloc.rate                  thrpt   10   1144.686 ±  23.411  MB/sec\n",
    "[info] BacktrackBenchmark.matchBigClass:gc.alloc.rate.norm             thrpt   10    128.000 ±   0.001    B/op\n",
    "[info] BacktrackBenchmark.matchBigClass:gc.count                       thrpt   10    137.000            counts\n",
    "[info] BacktrackBenchmark.matchBigClass:gc.time                        thrpt   10     36.000                ms\n",
    "[info] BacktrackBenchmark.matchFailLargeClass                          thrpt   10  23999.821 ± 941.262  ops/ms\n",
    "[info] BacktrackBenchmark.matchFailLargeClass:gc.alloc.rate            thrpt   10   2929.000 ± 115.151  MB/sec\n",
    "[info] BacktrackBenchmark.matchFailLargeClass:gc.alloc.rate.norm       thrpt   10    128.000 ±   0.001    B/op\n",
    "[info] BacktrackBenchmark.matchFailLargeClass:gc.count                 thrpt   10    154.000            counts\n",
    "[info] BacktrackBenchmark.matchFailLargeClass:gc.time                  thrpt   10     74.000                ms\n",
    "\"\"\"\n",
    "\n",
    "javaimpl_df = parse_jmh(raw_jmh_javaimpl)\n",
    "\n",
    "print(javaimpl_df)"
   ]
  },
  {
   "cell_type": "code",
   "execution_count": 6,
   "metadata": {},
   "outputs": [
    {
     "name": "stdout",
     "output_type": "stream",
     "text": [
      "shape: (15, 6)\n",
      "┌──────────────────────────┬────────────┬────────────┬──────────┬────────┬──────────┐\n",
      "│ benchmark                ┆ metric     ┆ value      ┆ error    ┆ unit   ┆ source   │\n",
      "│ ---                      ┆ ---        ┆ ---        ┆ ---      ┆ ---    ┆ ---      │\n",
      "│ str                      ┆ str        ┆ f64        ┆ f64      ┆ str    ┆ str      │\n",
      "╞══════════════════════════╪════════════╪════════════╪══════════╪════════╪══════════╡\n",
      "│ matchAlternationFailLate ┆ throughput ┆ 126.484    ┆ 4.582    ┆ ops/ms ┆ prog     │\n",
      "│ matchAlternationHit      ┆ throughput ┆ 205597.701 ┆ 5626.293 ┆ ops/ms ┆ prog     │\n",
      "│ matchBacktrackTrap       ┆ throughput ┆ 34317.522  ┆ 1503.136 ┆ ops/ms ┆ prog     │\n",
      "│ matchBigClass            ┆ throughput ┆ 4101.543   ┆ 281.476  ┆ ops/ms ┆ prog     │\n",
      "│ matchFailLargeClass      ┆ throughput ┆ 88196.591  ┆ 1032.987 ┆ ops/ms ┆ prog     │\n",
      "│ …                        ┆ …          ┆ …          ┆ …        ┆ …      ┆ …        │\n",
      "│ matchAlternationFailLate ┆ throughput ┆ 26.803     ┆ 0.878    ┆ ops/ms ┆ javaimpl │\n",
      "│ matchAlternationHit      ┆ throughput ┆ 20701.254  ┆ 538.638  ┆ ops/ms ┆ javaimpl │\n",
      "│ matchBacktrackTrap       ┆ throughput ┆ 3663.638   ┆ 172.075  ┆ ops/ms ┆ javaimpl │\n",
      "│ matchBigClass            ┆ throughput ┆ 9379.212   ┆ 190.45   ┆ ops/ms ┆ javaimpl │\n",
      "│ matchFailLargeClass      ┆ throughput ┆ 23999.821  ┆ 941.262  ┆ ops/ms ┆ javaimpl │\n",
      "└──────────────────────────┴────────────┴────────────┴──────────┴────────┴──────────┘\n"
     ]
    }
   ],
   "source": [
    "dfs = {\n",
    "    \"prog\": prog_df,\n",
    "    \"cps\": cps_df,\n",
    "    \"javaimpl\": javaimpl_df\n",
    "}\n",
    "\n",
    "# filter by throughput, concatenate, add source\n",
    "filtered_dfs = []\n",
    "for source, df in dfs.items():\n",
    "    # Filter for throughput metrics\n",
    "    filtered_df = df.filter(pl.col(\"metric\") == \"throughput\")\n",
    "    \n",
    "    # Add a new column with the source name\n",
    "    filtered_df = filtered_df.with_columns(pl.lit(source).alias(\"source\"))\n",
    "    \n",
    "    # Append the filtered DataFrame to the list\n",
    "    filtered_dfs.append(filtered_df)\n",
    "\n",
    "# Concatenate the filtered DataFrames\n",
    "combined_df = pl.concat(filtered_dfs)\n",
    "\n",
    "print(combined_df)"
   ]
  },
  {
   "cell_type": "code",
   "execution_count": 7,
   "metadata": {},
   "outputs": [
    {
     "name": "stdout",
     "output_type": "stream",
     "text": [
      "shape: (5, 11)\n",
      "┌───────────┬───────────┬───────────┬───────────┬───┬───────────┬───────────┬───────────┬──────────┐\n",
      "│ benchmark ┆ value_pro ┆ error_pro ┆ value_cps ┆ … ┆ value_cps ┆ error_cps ┆ value_jav ┆ error_ja │\n",
      "│ ---       ┆ g         ┆ g         ┆ ---       ┆   ┆ _rel      ┆ _rel      ┆ aimpl_rel ┆ vaimpl_r │\n",
      "│ str       ┆ ---       ┆ ---       ┆ f64       ┆   ┆ ---       ┆ ---       ┆ ---       ┆ el       │\n",
      "│           ┆ f64       ┆ f64       ┆           ┆   ┆ f64       ┆ f64       ┆ f64       ┆ ---      │\n",
      "│           ┆           ┆           ┆           ┆   ┆           ┆           ┆           ┆ f64      │\n",
      "╞═══════════╪═══════════╪═══════════╪═══════════╪═══╪═══════════╪═══════════╪═══════════╪══════════╡\n",
      "│ matchAlte ┆ 126.484   ┆ 4.582     ┆ 113.044   ┆ … ┆ 0.893742  ┆ 0.020429  ┆ 0.211908  ┆ 0.006942 │\n",
      "│ rnationFa ┆           ┆           ┆           ┆   ┆           ┆           ┆           ┆          │\n",
      "│ ilLate    ┆           ┆           ┆           ┆   ┆           ┆           ┆           ┆          │\n",
      "│ matchAlte ┆ 205597.70 ┆ 5626.293  ┆ 163264.80 ┆ … ┆ 0.794098  ┆ 0.05316   ┆ 0.100688  ┆ 0.00262  │\n",
      "│ rnationHi ┆ 1         ┆           ┆ 9         ┆   ┆           ┆           ┆           ┆          │\n",
      "│ t         ┆           ┆           ┆           ┆   ┆           ┆           ┆           ┆          │\n",
      "│ matchBack ┆ 34317.522 ┆ 1503.136  ┆ 33376.408 ┆ … ┆ 0.972576  ┆ 0.070549  ┆ 0.106757  ┆ 0.005014 │\n",
      "│ trackTrap ┆           ┆           ┆           ┆   ┆           ┆           ┆           ┆          │\n",
      "│ matchBigC ┆ 4101.543  ┆ 281.476   ┆ 4046.94   ┆ … ┆ 0.986687  ┆ 0.093822  ┆ 2.286752  ┆ 0.046434 │\n",
      "│ lass      ┆           ┆           ┆           ┆   ┆           ┆           ┆           ┆          │\n",
      "│ matchFail ┆ 88196.591 ┆ 1032.987  ┆ 63218.455 ┆ … ┆ 0.71679   ┆ 0.114892  ┆ 0.272117  ┆ 0.010672 │\n",
      "│ LargeClas ┆           ┆           ┆           ┆   ┆           ┆           ┆           ┆          │\n",
      "│ s         ┆           ┆           ┆           ┆   ┆           ┆           ┆           ┆          │\n",
      "└───────────┴───────────┴───────────┴───────────┴───┴───────────┴───────────┴───────────┴──────────┘\n"
     ]
    }
   ],
   "source": [
    "# normalise all values and errors relative to prog\n",
    "prog_df = combined_df.filter(pl.col(\"source\") == \"prog\").select([\"benchmark\", \"value\", \"error\"]).rename({\"value\": \"value_prog\", \"error\": \"error_prog\"})\n",
    "cps_df = combined_df.filter(pl.col(\"source\") == \"cps\").select([\"benchmark\", \"value\", \"error\"]).rename({\"value\": \"value_cps\", \"error\": \"error_cps\"})\n",
    "javaimpl_df = combined_df.filter(pl.col(\"source\") == \"javaimpl\").select([\"benchmark\", \"value\", \"error\"]).rename({\"value\": \"value_javaimpl\", \"error\": \"error_javaimpl\"})\n",
    "# Join the DataFrames on the benchmark column\n",
    "normalised_df = prog_df.join(cps_df, on=\"benchmark\", how=\"inner\").join(javaimpl_df, on=\"benchmark\", how=\"inner\")\n",
    "# Calculate the relative values and errors\n",
    "normalised_df = normalised_df.with_columns(\n",
    "    (pl.col(\"value_cps\") / pl.col(\"value_prog\")).alias(\"value_cps_rel\"),\n",
    "    (pl.col(\"error_cps\") / pl.col(\"value_prog\")).alias(\"error_cps_rel\"),\n",
    "    (pl.col(\"value_javaimpl\") / pl.col(\"value_prog\")).alias(\"value_javaimpl_rel\"),\n",
    "    (pl.col(\"error_javaimpl\") / pl.col(\"value_prog\")).alias(\"error_javaimpl_rel\")\n",
    ")\n",
    "# Print the final DataFrame\n",
    "print(normalised_df)\n"
   ]
  },
  {
   "cell_type": "code",
   "execution_count": 9,
   "metadata": {},
   "outputs": [
    {
     "data": {
      "image/png": "[encoded data removed]",
      "text/plain": [
       "<Figure size 1000x450 with 1 Axes>"
      ]
     },
     "metadata": {},
     "output_type": "display_data"
    }
   ],
   "source": [
    "import matplotlib.pyplot as plt\n",
    "import numpy as np\n",
    "import tikzplotlib\n",
    "\n",
    "# Assume your DataFrame is ready\n",
    "df = normalised_df  # or whatever your actual DataFrame is\n",
    "\n",
    "# Plot config\n",
    "benchmarks = df[\"benchmark\"].to_list()\n",
    "x = np.arange(len(benchmarks))\n",
    "width = 0.35\n",
    "\n",
    "# Extract values\n",
    "cps = df[\"value_cps_rel\"].to_numpy()\n",
    "cps_err = df[\"error_cps_rel\"].to_numpy()\n",
    "java = df[\"value_javaimpl_rel\"].to_numpy()\n",
    "java_err = df[\"error_javaimpl_rel\"].to_numpy()\n",
    "\n",
    "# Plot\n",
    "fig, ax = plt.subplots(figsize=(10, 4.5))  # Wider, flatter aspect\n",
    "bars1 = ax.bar(x - width/2, cps, width, yerr=cps_err, capsize=4, label=\"CPS\", color=\"tab:blue\")\n",
    "bars2 = ax.bar(x + width/2, java, width, yerr=java_err, capsize=4, label=\"Java\", color=\"tab:orange\")\n",
    "\n",
    "# Labels, legend\n",
    "ax.set_ylabel(\"Relative throughput (normalised to Prog)\")\n",
    "ax.set_xticks(x)\n",
    "ax.set_xticklabels(benchmarks, rotation=45, ha=\"right\")\n",
    "ax.set_ylim(0, max(java.max(), cps.max()) + 0.2)\n",
    "ax.legend()\n",
    "ax.grid(axis=\"y\", linestyle=\"--\", alpha=0.6)\n",
    "\n",
    "# Tight layout before export\n",
    "fig.tight_layout()\n",
    "\n",
    "# Save to TikZ/PGFPlots\n",
    "tikzplotlib.save(\"relative_throughput_plot.tex\")\n"
   ]
  },
  {
   "cell_type": "code",
   "execution_count": null,
   "metadata": {},
   "outputs": [],
   "source": [
    "\n",
    "\n"
   ]
  }
 ],
 "metadata": {
  "kernelspec": {
   "display_name": "venv",
   "language": "python",
   "name": "python3"
  },
  "language_info": {
   "codemirror_mode": {
    "name": "ipython",
    "version": 3
   },
   "file_extension": ".py",
   "mimetype": "text/x-python",
   "name": "python",
   "nbconvert_exporter": "python",
   "pygments_lexer": "ipython3",
   "version": "3.11.8"
  }
 },
 "nbformat": 4,
 "nbformat_minor": 2
}
