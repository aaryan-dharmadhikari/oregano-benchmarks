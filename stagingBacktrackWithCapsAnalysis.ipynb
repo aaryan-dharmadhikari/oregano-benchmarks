{
 "cells": [
  {
   "cell_type": "code",
   "execution_count": 75,
   "metadata": {},
   "outputs": [
    {
     "data": {
      "text/plain": [
       "polars.config.Config"
      ]
     },
     "execution_count": 75,
     "metadata": {},
     "output_type": "execute_result"
    }
   ],
   "source": [
    "import re\n",
    "import polars as pl\n",
    "pl.Config.set_tbl_rows(None)"
   ]
  },
  {
   "cell_type": "code",
   "execution_count": 76,
   "metadata": {},
   "outputs": [],
   "source": [
    "pattern = re.compile(\n",
    "    r\"\\[info\\] (?:\\w+)\\.([^\\s:]+)(?::([\\w\\.\\-]+))?\\s+thrpt\\s+\\d+\\s+(≈?\\s*\\S+)(?:\\s±\\s+([\\d\\.]+))?\\s+(\\S+)\"\n",
    ")\n",
    "\n",
    "def unicode_superscript_to_float(s: str) -> float:\n",
    "    \"\"\"\n",
    "    Converts a string like '10⁻⁶' or '≈ 10⁻⁵' into a float (e.g., 1e-6).\n",
    "    \"\"\"\n",
    "    superscripts = {\n",
    "        '⁰': '0', '¹': '1', '²': '2', '³': '3',\n",
    "        '⁴': '4', '⁵': '5', '⁶': '6', '⁷': '7', '⁸': '8', '⁹': '9',\n",
    "        '⁻': '-', '⁺': '+'\n",
    "    }\n",
    "    s = s.replace('≈', '').strip()\n",
    "    if '10' in s:\n",
    "        base, power = s.split('10')\n",
    "        exp = ''.join(superscripts.get(ch, '') for ch in power)\n",
    "        return float(f\"1e{exp}\")\n",
    "    return float(s)\n",
    "\n",
    "# Regex pattern for extracting rows\n",
    "def parse_jmh(raw_jmh: str) -> pl.DataFrame:\n",
    "    rows = []\n",
    "    for m in pattern.finditer(raw_jmh):\n",
    "        benchmark = m.group(1)\n",
    "        metric = m.group(2) or \"throughput\"\n",
    "        val_str = m.group(3).strip()\n",
    "        try:\n",
    "            value = float(val_str.replace(\"≈\", \"\"))\n",
    "        except ValueError:\n",
    "            value = unicode_superscript_to_float(val_str)\n",
    "        error = float(m.group(4)) if m.group(4) else None\n",
    "        unit = m.group(5)\n",
    "        rows.append((benchmark, metric, value, error, unit))\n",
    "\n",
    "\n",
    "    # Create Polars DataFrame\n",
    "    df = pl.DataFrame(rows, schema=[\"benchmark\", \"metric\", \"value\", \"error\", \"unit\"])\n",
    "    return df"
   ]
  },
  {
   "cell_type": "code",
   "execution_count": 77,
   "metadata": {},
   "outputs": [
    {
     "name": "stdout",
     "output_type": "stream",
     "text": [
      "shape: (30, 5)\n",
      "┌───────────────────────┬────────────────────┬──────────┬─────────┬────────┐\n",
      "│ benchmark             ┆ metric             ┆ value    ┆ error   ┆ unit   │\n",
      "│ ---                   ┆ ---                ┆ ---      ┆ ---     ┆ ---    │\n",
      "│ str                   ┆ str                ┆ f64      ┆ f64     ┆ str    │\n",
      "╞═══════════════════════╪════════════════════╪══════════╪═════════╪════════╡\n",
      "│ matchAlternationFail  ┆ throughput         ┆ 113.943  ┆ 5.49    ┆ ops/ms │\n",
      "│ matchAlternationFail  ┆ gc.alloc.rate      ┆ 3.474    ┆ 0.172   ┆ MB/sec │\n",
      "│ matchAlternationFail  ┆ gc.alloc.rate.norm ┆ 32.005   ┆ 0.001   ┆ B/op   │\n",
      "│ matchAlternationFail  ┆ gc.count           ┆ 1.0      ┆ null    ┆ counts │\n",
      "│ matchAlternationFail  ┆ gc.time            ┆ 2.0      ┆ null    ┆ ms     │\n",
      "│ …                     ┆ …                  ┆ …        ┆ …       ┆ …      │\n",
      "│ matchRepeatingLiteral ┆ throughput         ┆ 4449.933 ┆ 364.188 ┆ ops/ms │\n",
      "│ matchRepeatingLiteral ┆ gc.alloc.rate      ┆ 203.581  ┆ 16.779  ┆ MB/sec │\n",
      "│ matchRepeatingLiteral ┆ gc.alloc.rate.norm ┆ 48.0     ┆ 0.001   ┆ B/op   │\n",
      "│ matchRepeatingLiteral ┆ gc.count           ┆ 13.0     ┆ null    ┆ counts │\n",
      "│ matchRepeatingLiteral ┆ gc.time            ┆ 7.0      ┆ null    ┆ ms     │\n",
      "└───────────────────────┴────────────────────┴──────────┴─────────┴────────┘\n"
     ]
    },
    {
     "name": "stderr",
     "output_type": "stream",
     "text": [
      "/var/folders/vd/3qxwhj0s52bfzjbgt10xczn00000gn/T/ipykernel_18890/2346540513.py:38: DataOrientationWarning: Row orientation inferred during DataFrame construction. Explicitly specify the orientation by passing `orient=\"row\"` to silence this warning.\n",
      "  df = pl.DataFrame(rows, schema=[\"benchmark\", \"metric\", \"value\", \"error\", \"unit\"])\n"
     ]
    }
   ],
   "source": [
    "raw_jmh_prog = \"\"\"\n",
    "[info] Benchmark                                                           Mode  Cnt      Score       Error   Units\n",
    "[info] MatchWithCapsBenchmark.matchAlternationFail                        thrpt   10    113.943 ±     5.490  ops/ms\n",
    "[info] MatchWithCapsBenchmark.matchAlternationFail:gc.alloc.rate          thrpt   10      3.474 ±     0.172  MB/sec\n",
    "[info] MatchWithCapsBenchmark.matchAlternationFail:gc.alloc.rate.norm     thrpt   10     32.005 ±     0.001    B/op\n",
    "[info] MatchWithCapsBenchmark.matchAlternationFail:gc.count               thrpt   10      1.000              counts\n",
    "[info] MatchWithCapsBenchmark.matchAlternationFail:gc.time                thrpt   10      2.000                  ms\n",
    "[info] MatchWithCapsBenchmark.matchAlternationHit                         thrpt   10  98126.628 ± 26845.574  ops/ms\n",
    "[info] MatchWithCapsBenchmark.matchAlternationHit:gc.alloc.rate           thrpt   10   4483.514 ±  1234.408  MB/sec\n",
    "[info] MatchWithCapsBenchmark.matchAlternationHit:gc.alloc.rate.norm      thrpt   10     48.000 ±     0.001    B/op\n",
    "[info] MatchWithCapsBenchmark.matchAlternationHit:gc.count                thrpt   10     82.000              counts\n",
    "[info] MatchWithCapsBenchmark.matchAlternationHit:gc.time                 thrpt   10     54.000                  ms\n",
    "[info] MatchWithCapsBenchmark.matchAmbiguousBacktrack                     thrpt   10  20876.720 ±  1437.961  ops/ms\n",
    "[info] MatchWithCapsBenchmark.matchAmbiguousBacktrack:gc.alloc.rate       thrpt   10    955.397 ±    66.137  MB/sec\n",
    "[info] MatchWithCapsBenchmark.matchAmbiguousBacktrack:gc.alloc.rate.norm  thrpt   10     48.000 ±     0.001    B/op\n",
    "[info] MatchWithCapsBenchmark.matchAmbiguousBacktrack:gc.count            thrpt   10     65.000              counts\n",
    "[info] MatchWithCapsBenchmark.matchAmbiguousBacktrack:gc.time             thrpt   10     29.000                  ms\n",
    "[info] MatchWithCapsBenchmark.matchGreedyCapture                          thrpt   10    291.539 ±     7.963  ops/ms\n",
    "[info] MatchWithCapsBenchmark.matchGreedyCapture:gc.alloc.rate            thrpt   10     13.343 ±     0.366  MB/sec\n",
    "[info] MatchWithCapsBenchmark.matchGreedyCapture:gc.alloc.rate.norm       thrpt   10     48.002 ±     0.001    B/op\n",
    "[info] MatchWithCapsBenchmark.matchGreedyCapture:gc.count                 thrpt   10      1.000              counts\n",
    "[info] MatchWithCapsBenchmark.matchGreedyCapture:gc.time                  thrpt   10      2.000                  ms\n",
    "[info] MatchWithCapsBenchmark.matchManyGroup                              thrpt   10  65286.076 ± 24108.195  ops/ms\n",
    "[info] MatchWithCapsBenchmark.matchManyGroup:gc.alloc.rate                thrpt   10   7453.809 ±  2755.917  MB/sec\n",
    "[info] MatchWithCapsBenchmark.matchManyGroup:gc.alloc.rate.norm           thrpt   10    120.000 ±     0.001    B/op\n",
    "[info] MatchWithCapsBenchmark.matchManyGroup:gc.count                     thrpt   10    245.000              counts\n",
    "[info] MatchWithCapsBenchmark.matchManyGroup:gc.time                      thrpt   10    131.000                  ms\n",
    "[info] MatchWithCapsBenchmark.matchRepeatingLiteral                       thrpt   10   4449.933 ±   364.188  ops/ms\n",
    "[info] MatchWithCapsBenchmark.matchRepeatingLiteral:gc.alloc.rate         thrpt   10    203.581 ±    16.779  MB/sec\n",
    "[info] MatchWithCapsBenchmark.matchRepeatingLiteral:gc.alloc.rate.norm    thrpt   10     48.000 ±     0.001    B/op\n",
    "[info] MatchWithCapsBenchmark.matchRepeatingLiteral:gc.count              thrpt   10     13.000              counts\n",
    "[info] MatchWithCapsBenchmark.matchRepeatingLiteral:gc.time               thrpt   10      7.000                  ms\n",
    "\"\"\"\n",
    "\n",
    "prog_df = parse_jmh(raw_jmh_prog)\n",
    "print(prog_df)"
   ]
  },
  {
   "cell_type": "code",
   "execution_count": 78,
   "metadata": {},
   "outputs": [
    {
     "name": "stdout",
     "output_type": "stream",
     "text": [
      "shape: (30, 5)\n",
      "┌───────────────────────┬────────────────────┬──────────┬─────────┬────────┐\n",
      "│ benchmark             ┆ metric             ┆ value    ┆ error   ┆ unit   │\n",
      "│ ---                   ┆ ---                ┆ ---      ┆ ---     ┆ ---    │\n",
      "│ str                   ┆ str                ┆ f64      ┆ f64     ┆ str    │\n",
      "╞═══════════════════════╪════════════════════╪══════════╪═════════╪════════╡\n",
      "│ matchAlternationFail  ┆ throughput         ┆ 103.057  ┆ 4.941   ┆ ops/ms │\n",
      "│ matchAlternationFail  ┆ gc.alloc.rate      ┆ 4.713    ┆ 0.233   ┆ MB/sec │\n",
      "│ matchAlternationFail  ┆ gc.alloc.rate.norm ┆ 48.005   ┆ 0.001   ┆ B/op   │\n",
      "│ matchAlternationFail  ┆ gc.count           ┆ 1.0      ┆ null    ┆ counts │\n",
      "│ matchAlternationFail  ┆ gc.time            ┆ 2.0      ┆ null    ┆ ms     │\n",
      "│ …                     ┆ …                  ┆ …        ┆ …       ┆ …      │\n",
      "│ matchRepeatingLiteral ┆ throughput         ┆ 4261.659 ┆ 220.843 ┆ ops/ms │\n",
      "│ matchRepeatingLiteral ┆ gc.alloc.rate      ┆ 260.007  ┆ 13.508  ┆ MB/sec │\n",
      "│ matchRepeatingLiteral ┆ gc.alloc.rate.norm ┆ 64.0     ┆ 0.001   ┆ B/op   │\n",
      "│ matchRepeatingLiteral ┆ gc.count           ┆ 18.0     ┆ null    ┆ counts │\n",
      "│ matchRepeatingLiteral ┆ gc.time            ┆ 10.0     ┆ null    ┆ ms     │\n",
      "└───────────────────────┴────────────────────┴──────────┴─────────┴────────┘\n"
     ]
    },
    {
     "name": "stderr",
     "output_type": "stream",
     "text": [
      "/var/folders/vd/3qxwhj0s52bfzjbgt10xczn00000gn/T/ipykernel_18890/2346540513.py:38: DataOrientationWarning: Row orientation inferred during DataFrame construction. Explicitly specify the orientation by passing `orient=\"row\"` to silence this warning.\n",
      "  df = pl.DataFrame(rows, schema=[\"benchmark\", \"metric\", \"value\", \"error\", \"unit\"])\n"
     ]
    }
   ],
   "source": [
    "raw_jmh_cps_callstack = \"\"\"\n",
    "[info] Benchmark                                                           Mode  Cnt      Score      Error   Units\n",
    "[info] MatchWithCapsBenchmark.matchAlternationFail                        thrpt   10    103.057 ±    4.941  ops/ms\n",
    "[info] MatchWithCapsBenchmark.matchAlternationFail:gc.alloc.rate          thrpt   10      4.713 ±    0.233  MB/sec\n",
    "[info] MatchWithCapsBenchmark.matchAlternationFail:gc.alloc.rate.norm     thrpt   10     48.005 ±    0.001    B/op\n",
    "[info] MatchWithCapsBenchmark.matchAlternationFail:gc.count               thrpt   10      1.000             counts\n",
    "[info] MatchWithCapsBenchmark.matchAlternationFail:gc.time                thrpt   10      2.000                 ms\n",
    "[info] MatchWithCapsBenchmark.matchAlternationHit                         thrpt   10  91144.082 ± 5652.734  ops/ms\n",
    "[info] MatchWithCapsBenchmark.matchAlternationHit:gc.alloc.rate           thrpt   10   5559.147 ±  348.336  MB/sec\n",
    "[info] MatchWithCapsBenchmark.matchAlternationHit:gc.alloc.rate.norm      thrpt   10     64.000 ±    0.001    B/op\n",
    "[info] MatchWithCapsBenchmark.matchAlternationHit:gc.count                thrpt   10    212.000             counts\n",
    "[info] MatchWithCapsBenchmark.matchAlternationHit:gc.time                 thrpt   10    112.000                 ms\n",
    "[info] MatchWithCapsBenchmark.matchAmbiguousBacktrack                     thrpt   10  27253.211 ±  774.632  ops/ms\n",
    "[info] MatchWithCapsBenchmark.matchAmbiguousBacktrack:gc.alloc.rate       thrpt   10   1662.415 ±   47.901  MB/sec\n",
    "[info] MatchWithCapsBenchmark.matchAmbiguousBacktrack:gc.alloc.rate.norm  thrpt   10     64.000 ±    0.001    B/op\n",
    "[info] MatchWithCapsBenchmark.matchAmbiguousBacktrack:gc.count            thrpt   10    112.000             counts\n",
    "[info] MatchWithCapsBenchmark.matchAmbiguousBacktrack:gc.time             thrpt   10     43.000                 ms\n",
    "[info] MatchWithCapsBenchmark.matchGreedyCapture                          thrpt   10    284.896 ±    4.790  ops/ms\n",
    "[info] MatchWithCapsBenchmark.matchGreedyCapture:gc.alloc.rate            thrpt   10     17.377 ±    0.308  MB/sec\n",
    "[info] MatchWithCapsBenchmark.matchGreedyCapture:gc.alloc.rate.norm       thrpt   10     64.002 ±    0.001    B/op\n",
    "[info] MatchWithCapsBenchmark.matchGreedyCapture:gc.count                 thrpt   10      2.000             counts\n",
    "[info] MatchWithCapsBenchmark.matchGreedyCapture:gc.time                  thrpt   10      3.000                 ms\n",
    "[info] MatchWithCapsBenchmark.matchManyGroup                              thrpt   10  61183.201 ± 1948.324  ops/ms\n",
    "[info] MatchWithCapsBenchmark.matchManyGroup:gc.alloc.rate                thrpt   10   7932.406 ±  254.837  MB/sec\n",
    "[info] MatchWithCapsBenchmark.matchManyGroup:gc.alloc.rate.norm           thrpt   10    136.000 ±    0.001    B/op\n",
    "[info] MatchWithCapsBenchmark.matchManyGroup:gc.count                     thrpt   10    291.000             counts\n",
    "[info] MatchWithCapsBenchmark.matchManyGroup:gc.time                      thrpt   10    134.000                 ms\n",
    "[info] MatchWithCapsBenchmark.matchRepeatingLiteral                       thrpt   10   4261.659 ±  220.843  ops/ms\n",
    "[info] MatchWithCapsBenchmark.matchRepeatingLiteral:gc.alloc.rate         thrpt   10    260.007 ±   13.508  MB/sec\n",
    "[info] MatchWithCapsBenchmark.matchRepeatingLiteral:gc.alloc.rate.norm    thrpt   10     64.000 ±    0.001    B/op\n",
    "[info] MatchWithCapsBenchmark.matchRepeatingLiteral:gc.count              thrpt   10     18.000             counts\n",
    "[info] MatchWithCapsBenchmark.matchRepeatingLiteral:gc.time               thrpt   10     10.000                 ms\n",
    "\"\"\"\n",
    "\n",
    "callstack_cps_df = parse_jmh(raw_jmh_cps_callstack)\n",
    "print(callstack_cps_df)"
   ]
  },
  {
   "cell_type": "code",
   "execution_count": 79,
   "metadata": {},
   "outputs": [
    {
     "name": "stdout",
     "output_type": "stream",
     "text": [
      "shape: (30, 5)\n",
      "┌───────────────────────┬────────────────────┬───────────┬─────────┬────────┐\n",
      "│ benchmark             ┆ metric             ┆ value     ┆ error   ┆ unit   │\n",
      "│ ---                   ┆ ---                ┆ ---       ┆ ---     ┆ ---    │\n",
      "│ str                   ┆ str                ┆ f64       ┆ f64     ┆ str    │\n",
      "╞═══════════════════════╪════════════════════╪═══════════╪═════════╪════════╡\n",
      "│ matchAlternationFail  ┆ throughput         ┆ 30.727    ┆ 3.765   ┆ ops/ms │\n",
      "│ matchAlternationFail  ┆ gc.alloc.rate      ┆ 2788.491  ┆ 342.167 ┆ MB/sec │\n",
      "│ matchAlternationFail  ┆ gc.alloc.rate.norm ┆ 95192.018 ┆ 0.003   ┆ B/op   │\n",
      "│ matchAlternationFail  ┆ gc.count           ┆ 181.0     ┆ null    ┆ counts │\n",
      "│ matchAlternationFail  ┆ gc.time            ┆ 77.0      ┆ null    ┆ ms     │\n",
      "│ …                     ┆ …                  ┆ …         ┆ …       ┆ …      │\n",
      "│ matchRepeatingLiteral ┆ throughput         ┆ 700.661   ┆ 92.358  ┆ ops/ms │\n",
      "│ matchRepeatingLiteral ┆ gc.alloc.rate      ┆ 5444.894  ┆ 719.872 ┆ MB/sec │\n",
      "│ matchRepeatingLiteral ┆ gc.alloc.rate.norm ┆ 8152.001  ┆ 0.001   ┆ B/op   │\n",
      "│ matchRepeatingLiteral ┆ gc.count           ┆ 216.0     ┆ null    ┆ counts │\n",
      "│ matchRepeatingLiteral ┆ gc.time            ┆ 131.0     ┆ null    ┆ ms     │\n",
      "└───────────────────────┴────────────────────┴───────────┴─────────┴────────┘\n"
     ]
    },
    {
     "name": "stderr",
     "output_type": "stream",
     "text": [
      "/var/folders/vd/3qxwhj0s52bfzjbgt10xczn00000gn/T/ipykernel_18890/2346540513.py:38: DataOrientationWarning: Row orientation inferred during DataFrame construction. Explicitly specify the orientation by passing `orient=\"row\"` to silence this warning.\n",
      "  df = pl.DataFrame(rows, schema=[\"benchmark\", \"metric\", \"value\", \"error\", \"unit\"])\n"
     ]
    }
   ],
   "source": [
    "raw_jmh_cps_aux_stack = \"\"\"\n",
    "[info] Benchmark                                                           Mode  Cnt      Score      Error   Units\n",
    "[info] MatchWithCapsBenchmark.matchAlternationFail                        thrpt   10     30.727 ±    3.765  ops/ms\n",
    "[info] MatchWithCapsBenchmark.matchAlternationFail:gc.alloc.rate          thrpt   10   2788.491 ±  342.167  MB/sec\n",
    "[info] MatchWithCapsBenchmark.matchAlternationFail:gc.alloc.rate.norm     thrpt   10  95192.018 ±    0.003    B/op\n",
    "[info] MatchWithCapsBenchmark.matchAlternationFail:gc.count               thrpt   10    181.000             counts\n",
    "[info] MatchWithCapsBenchmark.matchAlternationFail:gc.time                thrpt   10     77.000                 ms\n",
    "[info] MatchWithCapsBenchmark.matchAlternationHit                         thrpt   10  36804.031 ± 2984.914  ops/ms\n",
    "[info] MatchWithCapsBenchmark.matchAlternationHit:gc.alloc.rate           thrpt   10   8421.067 ±  684.538  MB/sec\n",
    "[info] MatchWithCapsBenchmark.matchAlternationHit:gc.alloc.rate.norm      thrpt   10    240.000 ±    0.001    B/op\n",
    "[info] MatchWithCapsBenchmark.matchAlternationHit:gc.count                thrpt   10    275.000             counts\n",
    "[info] MatchWithCapsBenchmark.matchAlternationHit:gc.time                 thrpt   10    136.000                 ms\n",
    "[info] MatchWithCapsBenchmark.matchAmbiguousBacktrack                     thrpt   10   3732.288 ±  429.914  ops/ms\n",
    "[info] MatchWithCapsBenchmark.matchAmbiguousBacktrack:gc.alloc.rate       thrpt   10   5664.627 ±  653.476  MB/sec\n",
    "[info] MatchWithCapsBenchmark.matchAmbiguousBacktrack:gc.alloc.rate.norm  thrpt   10   1592.000 ±    0.001    B/op\n",
    "[info] MatchWithCapsBenchmark.matchAmbiguousBacktrack:gc.count            thrpt   10    221.000             counts\n",
    "[info] MatchWithCapsBenchmark.matchAmbiguousBacktrack:gc.time             thrpt   10    123.000                 ms\n",
    "[info] MatchWithCapsBenchmark.matchGreedyCapture                          thrpt   10    242.596 ±   25.373  ops/ms\n",
    "[info] MatchWithCapsBenchmark.matchGreedyCapture:gc.alloc.rate            thrpt   10     55.512 ±    5.811  MB/sec\n",
    "[info] MatchWithCapsBenchmark.matchGreedyCapture:gc.alloc.rate.norm       thrpt   10    240.002 ±    0.001    B/op\n",
    "[info] MatchWithCapsBenchmark.matchGreedyCapture:gc.count                 thrpt   10      4.000             counts\n",
    "[info] MatchWithCapsBenchmark.matchGreedyCapture:gc.time                  thrpt   10      3.000                 ms\n",
    "[info] MatchWithCapsBenchmark.matchManyGroup                              thrpt   10   6237.259 ±  573.530  ops/ms\n",
    "[info] MatchWithCapsBenchmark.matchManyGroup:gc.alloc.rate                thrpt   10   5280.033 ±  487.031  MB/sec\n",
    "[info] MatchWithCapsBenchmark.matchManyGroup:gc.alloc.rate.norm           thrpt   10    888.000 ±    0.001    B/op\n",
    "[info] MatchWithCapsBenchmark.matchManyGroup:gc.count                     thrpt   10    236.000             counts\n",
    "[info] MatchWithCapsBenchmark.matchManyGroup:gc.time                      thrpt   10    113.000                 ms\n",
    "[info] MatchWithCapsBenchmark.matchRepeatingLiteral                       thrpt   10    700.661 ±   92.358  ops/ms\n",
    "[info] MatchWithCapsBenchmark.matchRepeatingLiteral:gc.alloc.rate         thrpt   10   5444.894 ±  719.872  MB/sec\n",
    "[info] MatchWithCapsBenchmark.matchRepeatingLiteral:gc.alloc.rate.norm    thrpt   10   8152.001 ±    0.001    B/op\n",
    "[info] MatchWithCapsBenchmark.matchRepeatingLiteral:gc.count              thrpt   10    216.000             counts\n",
    "[info] MatchWithCapsBenchmark.matchRepeatingLiteral:gc.time               thrpt   10    131.000                 ms\n",
    "\"\"\"\n",
    "\n",
    "aux_stack_cps_df = parse_jmh(raw_jmh_cps_aux_stack)\n",
    "print(aux_stack_cps_df)"
   ]
  },
  {
   "cell_type": "code",
   "execution_count": 80,
   "metadata": {},
   "outputs": [
    {
     "name": "stdout",
     "output_type": "stream",
     "text": [
      "shape: (30, 5)\n",
      "┌───────────────────────┬────────────────────┬───────────┬─────────┬────────┐\n",
      "│ benchmark             ┆ metric             ┆ value     ┆ error   ┆ unit   │\n",
      "│ ---                   ┆ ---                ┆ ---       ┆ ---     ┆ ---    │\n",
      "│ str                   ┆ str                ┆ f64       ┆ f64     ┆ str    │\n",
      "╞═══════════════════════╪════════════════════╪═══════════╪═════════╪════════╡\n",
      "│ matchAlternationFail  ┆ throughput         ┆ 26.62     ┆ 1.21    ┆ ops/ms │\n",
      "│ matchAlternationFail  ┆ gc.alloc.rate      ┆ 528.485   ┆ 24.741  ┆ MB/sec │\n",
      "│ matchAlternationFail  ┆ gc.alloc.rate.norm ┆ 20840.033 ┆ 0.061   ┆ B/op   │\n",
      "│ matchAlternationFail  ┆ gc.count           ┆ 35.0      ┆ null    ┆ counts │\n",
      "│ matchAlternationFail  ┆ gc.time            ┆ 16.0      ┆ null    ┆ ms     │\n",
      "│ …                     ┆ …                  ┆ …         ┆ …       ┆ …      │\n",
      "│ matchRepeatingLiteral ┆ throughput         ┆ 2476.603  ┆ 154.005 ┆ ops/ms │\n",
      "│ matchRepeatingLiteral ┆ gc.alloc.rate      ┆ 491.146   ┆ 30.659  ┆ MB/sec │\n",
      "│ matchRepeatingLiteral ┆ gc.alloc.rate.norm ┆ 208.0     ┆ 0.001   ┆ B/op   │\n",
      "│ matchRepeatingLiteral ┆ gc.count           ┆ 33.0      ┆ null    ┆ counts │\n",
      "│ matchRepeatingLiteral ┆ gc.time            ┆ 14.0      ┆ null    ┆ ms     │\n",
      "└───────────────────────┴────────────────────┴───────────┴─────────┴────────┘\n"
     ]
    },
    {
     "name": "stderr",
     "output_type": "stream",
     "text": [
      "/var/folders/vd/3qxwhj0s52bfzjbgt10xczn00000gn/T/ipykernel_18890/2346540513.py:38: DataOrientationWarning: Row orientation inferred during DataFrame construction. Explicitly specify the orientation by passing `orient=\"row\"` to silence this warning.\n",
      "  df = pl.DataFrame(rows, schema=[\"benchmark\", \"metric\", \"value\", \"error\", \"unit\"])\n"
     ]
    }
   ],
   "source": [
    "raw_jmh_javaimpl = \"\"\"\n",
    "[info] Benchmark                                                           Mode  Cnt      Score      Error   Units\n",
    "[info] MatchWithCapsBenchmark.matchAlternationFail                        thrpt   10     26.620 ±    1.210  ops/ms\n",
    "[info] MatchWithCapsBenchmark.matchAlternationFail:gc.alloc.rate          thrpt   10    528.485 ±   24.741  MB/sec\n",
    "[info] MatchWithCapsBenchmark.matchAlternationFail:gc.alloc.rate.norm     thrpt   10  20840.033 ±    0.061    B/op\n",
    "[info] MatchWithCapsBenchmark.matchAlternationFail:gc.count               thrpt   10     35.000             counts\n",
    "[info] MatchWithCapsBenchmark.matchAlternationFail:gc.time                thrpt   10     16.000                 ms\n",
    "[info] MatchWithCapsBenchmark.matchAlternationHit                         thrpt   10  34497.323 ±  667.919  ops/ms\n",
    "[info] MatchWithCapsBenchmark.matchAlternationHit:gc.alloc.rate           thrpt   10   4471.811 ±   89.424  MB/sec\n",
    "[info] MatchWithCapsBenchmark.matchAlternationHit:gc.alloc.rate.norm      thrpt   10    136.000 ±    0.001    B/op\n",
    "[info] MatchWithCapsBenchmark.matchAlternationHit:gc.count                thrpt   10    195.000             counts\n",
    "[info] MatchWithCapsBenchmark.matchAlternationHit:gc.time                 thrpt   10     97.000                 ms\n",
    "[info] MatchWithCapsBenchmark.matchAmbiguousBacktrack                     thrpt   10   3184.827 ±   50.853  ops/ms\n",
    "[info] MatchWithCapsBenchmark.matchAmbiguousBacktrack:gc.alloc.rate       thrpt   10   1336.107 ±   21.517  MB/sec\n",
    "[info] MatchWithCapsBenchmark.matchAmbiguousBacktrack:gc.alloc.rate.norm  thrpt   10    440.000 ±    0.001    B/op\n",
    "[info] MatchWithCapsBenchmark.matchAmbiguousBacktrack:gc.count            thrpt   10     90.000             counts\n",
    "[info] MatchWithCapsBenchmark.matchAmbiguousBacktrack:gc.time             thrpt   10     33.000                 ms\n",
    "[info] MatchWithCapsBenchmark.matchGreedyCapture                          thrpt   10   4996.667 ±   84.677  ops/ms\n",
    "[info] MatchWithCapsBenchmark.matchGreedyCapture:gc.alloc.rate            thrpt   10    990.729 ±   16.899  MB/sec\n",
    "[info] MatchWithCapsBenchmark.matchGreedyCapture:gc.alloc.rate.norm       thrpt   10    208.000 ±    0.001    B/op\n",
    "[info] MatchWithCapsBenchmark.matchGreedyCapture:gc.count                 thrpt   10     67.000             counts\n",
    "[info] MatchWithCapsBenchmark.matchGreedyCapture:gc.time                  thrpt   10     28.000                 ms\n",
    "[info] MatchWithCapsBenchmark.matchManyGroup                              thrpt   10  12100.250 ± 1108.585  ops/ms\n",
    "[info] MatchWithCapsBenchmark.matchManyGroup:gc.alloc.rate                thrpt   10   2860.774 ±  263.628  MB/sec\n",
    "[info] MatchWithCapsBenchmark.matchManyGroup:gc.alloc.rate.norm           thrpt   10    248.000 ±    0.001    B/op\n",
    "[info] MatchWithCapsBenchmark.matchManyGroup:gc.count                     thrpt   10    179.000             counts\n",
    "[info] MatchWithCapsBenchmark.matchManyGroup:gc.time                      thrpt   10     73.000                 ms\n",
    "[info] MatchWithCapsBenchmark.matchRepeatingLiteral                       thrpt   10   2476.603 ±  154.005  ops/ms\n",
    "[info] MatchWithCapsBenchmark.matchRepeatingLiteral:gc.alloc.rate         thrpt   10    491.146 ±   30.659  MB/sec\n",
    "[info] MatchWithCapsBenchmark.matchRepeatingLiteral:gc.alloc.rate.norm    thrpt   10    208.000 ±    0.001    B/op\n",
    "[info] MatchWithCapsBenchmark.matchRepeatingLiteral:gc.count              thrpt   10     33.000             counts\n",
    "[info] MatchWithCapsBenchmark.matchRepeatingLiteral:gc.time               thrpt   10     14.000                 ms\n",
    "\"\"\"\n",
    "\n",
    "javaimpl_df = parse_jmh(raw_jmh_javaimpl)\n",
    "\n",
    "print(javaimpl_df)"
   ]
  },
  {
   "cell_type": "code",
   "execution_count": 81,
   "metadata": {},
   "outputs": [
    {
     "name": "stdout",
     "output_type": "stream",
     "text": [
      "shape: (20, 6)\n",
      "┌─────────────────────────┬────────────┬───────────┬───────────┬────────┬──────────┐\n",
      "│ benchmark               ┆ metric     ┆ value     ┆ error     ┆ unit   ┆ source   │\n",
      "│ ---                     ┆ ---        ┆ ---       ┆ ---       ┆ ---    ┆ ---      │\n",
      "│ str                     ┆ str        ┆ f64       ┆ f64       ┆ str    ┆ str      │\n",
      "╞═════════════════════════╪════════════╪═══════════╪═══════════╪════════╪══════════╡\n",
      "│ matchAlternationFail    ┆ throughput ┆ 113.943   ┆ 5.49      ┆ ops/ms ┆ prog     │\n",
      "│ matchAlternationHit     ┆ throughput ┆ 98126.628 ┆ 26845.574 ┆ ops/ms ┆ prog     │\n",
      "│ matchAmbiguousBacktrack ┆ throughput ┆ 20876.72  ┆ 1437.961  ┆ ops/ms ┆ prog     │\n",
      "│ matchManyGroup          ┆ throughput ┆ 65286.076 ┆ 24108.195 ┆ ops/ms ┆ prog     │\n",
      "│ matchRepeatingLiteral   ┆ throughput ┆ 4449.933  ┆ 364.188   ┆ ops/ms ┆ prog     │\n",
      "│ …                       ┆ …          ┆ …         ┆ …         ┆ …      ┆ …        │\n",
      "│ matchAlternationFail    ┆ throughput ┆ 26.62     ┆ 1.21      ┆ ops/ms ┆ javaimpl │\n",
      "│ matchAlternationHit     ┆ throughput ┆ 34497.323 ┆ 667.919   ┆ ops/ms ┆ javaimpl │\n",
      "│ matchAmbiguousBacktrack ┆ throughput ┆ 3184.827  ┆ 50.853    ┆ ops/ms ┆ javaimpl │\n",
      "│ matchManyGroup          ┆ throughput ┆ 12100.25  ┆ 1108.585  ┆ ops/ms ┆ javaimpl │\n",
      "│ matchRepeatingLiteral   ┆ throughput ┆ 2476.603  ┆ 154.005   ┆ ops/ms ┆ javaimpl │\n",
      "└─────────────────────────┴────────────┴───────────┴───────────┴────────┴──────────┘\n"
     ]
    }
   ],
   "source": [
    "dfs = {\n",
    "    \"prog\": prog_df,\n",
    "    \"cps_callstack\": callstack_cps_df,\n",
    "    \"cps_aux_stack\": aux_stack_cps_df,\n",
    "    \"javaimpl\": javaimpl_df\n",
    "}\n",
    "\n",
    "# filter by throughput, concatenate, add source\n",
    "filtered_dfs = []\n",
    "for source, df in dfs.items():\n",
    "    # Filter for throughput metrics\n",
    "    filtered_df = df.filter(\n",
    "        pl.col(\"metric\") == \"throughput\"\n",
    "    ).filter(\n",
    "        # exclude GreedyCapture\n",
    "        ~pl.col(\"benchmark\").str.contains(\"GreedyCapture\")\n",
    "    )\n",
    "    \n",
    "    # Add a new column with the source name\n",
    "    filtered_df = filtered_df.with_columns(pl.lit(source).alias(\"source\"))\n",
    "    \n",
    "    # Append the filtered DataFrame to the list\n",
    "    filtered_dfs.append(filtered_df)\n",
    "\n",
    "# Concatenate the filtered DataFrames\n",
    "combined_df = pl.concat(filtered_dfs)\n",
    "\n",
    "print(combined_df)"
   ]
  },
  {
   "cell_type": "code",
   "execution_count": 82,
   "metadata": {},
   "outputs": [
    {
     "name": "stdout",
     "output_type": "stream",
     "text": [
      "shape: (5, 15)\n",
      "┌───────────┬───────────┬───────────┬───────────┬───┬───────────┬───────────┬───────────┬──────────┐\n",
      "│ benchmark ┆ value_pro ┆ error_pro ┆ value_cps ┆ … ┆ value_cps ┆ error_cps ┆ value_jav ┆ error_ja │\n",
      "│ ---       ┆ g         ┆ g         ┆ _callstac ┆   ┆ _aux_stac ┆ _aux_stac ┆ aimpl_rel ┆ vaimpl_r │\n",
      "│ str       ┆ ---       ┆ ---       ┆ k         ┆   ┆ k_rel     ┆ k_rel     ┆ ---       ┆ el       │\n",
      "│           ┆ f64       ┆ f64       ┆ ---       ┆   ┆ ---       ┆ ---       ┆ f64       ┆ ---      │\n",
      "│           ┆           ┆           ┆ f64       ┆   ┆ f64       ┆ f64       ┆           ┆ f64      │\n",
      "╞═══════════╪═══════════╪═══════════╪═══════════╪═══╪═══════════╪═══════════╪═══════════╪══════════╡\n",
      "│ matchAlte ┆ 113.943   ┆ 5.49      ┆ 103.057   ┆ … ┆ 0.26967   ┆ 0.033043  ┆ 0.233626  ┆ 0.010619 │\n",
      "│ rnationFa ┆           ┆           ┆           ┆   ┆           ┆           ┆           ┆          │\n",
      "│ il        ┆           ┆           ┆           ┆   ┆           ┆           ┆           ┆          │\n",
      "│ matchAlte ┆ 98126.628 ┆ 26845.574 ┆ 91144.082 ┆ … ┆ 0.375067  ┆ 0.030419  ┆ 0.351559  ┆ 0.006807 │\n",
      "│ rnationHi ┆           ┆           ┆           ┆   ┆           ┆           ┆           ┆          │\n",
      "│ t         ┆           ┆           ┆           ┆   ┆           ┆           ┆           ┆          │\n",
      "│ matchAmbi ┆ 20876.72  ┆ 1437.961  ┆ 27253.211 ┆ … ┆ 0.178778  ┆ 0.020593  ┆ 0.152554  ┆ 0.002436 │\n",
      "│ guousBack ┆           ┆           ┆           ┆   ┆           ┆           ┆           ┆          │\n",
      "│ track     ┆           ┆           ┆           ┆   ┆           ┆           ┆           ┆          │\n",
      "│ matchMany ┆ 65286.076 ┆ 24108.195 ┆ 61183.201 ┆ … ┆ 0.095537  ┆ 0.008785  ┆ 0.185342  ┆ 0.01698  │\n",
      "│ Group     ┆           ┆           ┆           ┆   ┆           ┆           ┆           ┆          │\n",
      "│ matchRepe ┆ 4449.933  ┆ 364.188   ┆ 4261.659  ┆ … ┆ 0.157454  ┆ 0.020755  ┆ 0.556548  ┆ 0.034608 │\n",
      "│ atingLite ┆           ┆           ┆           ┆   ┆           ┆           ┆           ┆          │\n",
      "│ ral       ┆           ┆           ┆           ┆   ┆           ┆           ┆           ┆          │\n",
      "└───────────┴───────────┴───────────┴───────────┴───┴───────────┴───────────┴───────────┴──────────┘\n"
     ]
    }
   ],
   "source": [
    "# normalise all values and errors relative to prog\n",
    "prog_df = combined_df.filter(pl.col(\"source\") == \"prog\").select([\"benchmark\", \"value\", \"error\"]).rename({\"value\": \"value_prog\", \"error\": \"error_prog\"})\n",
    "callstack_cps_df = combined_df.filter(pl.col(\"source\") == \"cps_callstack\").select([\"benchmark\", \"value\", \"error\"]).rename({\"value\": \"value_cps_callstack\", \"error\": \"error_cps_callstack\"})\n",
    "aux_stack_cps_df = combined_df.filter(pl.col(\"source\") == \"cps_aux_stack\").select([\"benchmark\", \"value\", \"error\"]).rename({\"value\": \"value_cps_aux_stack\", \"error\": \"error_cps_aux_stack\"})\n",
    "javaimpl_df = combined_df.filter(pl.col(\"source\") == \"javaimpl\").select([\"benchmark\", \"value\", \"error\"]).rename({\"value\": \"value_javaimpl\", \"error\": \"error_javaimpl\"})\n",
    "# Join the DataFrames on the benchmark column\n",
    "normalised_df = prog_df.join(\n",
    "        callstack_cps_df, on=\"benchmark\", how=\"inner\"\n",
    "    ).join(\n",
    "        aux_stack_cps_df, on=\"benchmark\", how=\"inner\"\n",
    "    ).join(\n",
    "        javaimpl_df, on=\"benchmark\", how=\"inner\"\n",
    "    )\n",
    "# Calculate the relative values and errors\n",
    "normalised_df = normalised_df.with_columns(\n",
    "    (pl.col(\"value_cps_callstack\") / pl.col(\"value_prog\")).alias(\"value_cps_callstack_rel\"),\n",
    "    (pl.col(\"error_cps_callstack\") / pl.col(\"value_prog\")).alias(\"error_cps_callstack_rel\"),\n",
    "    (pl.col(\"value_cps_aux_stack\") / pl.col(\"value_prog\")).alias(\"value_cps_aux_stack_rel\"),\n",
    "    (pl.col(\"error_cps_aux_stack\") / pl.col(\"value_prog\")).alias(\"error_cps_aux_stack_rel\"),\n",
    "    (pl.col(\"value_javaimpl\") / pl.col(\"value_prog\")).alias(\"value_javaimpl_rel\"),\n",
    "    (pl.col(\"error_javaimpl\") / pl.col(\"value_prog\")).alias(\"error_javaimpl_rel\")\n",
    ")\n",
    "# Print the final DataFrame\n",
    "print(normalised_df)\n"
   ]
  },
  {
   "cell_type": "code",
   "execution_count": 83,
   "metadata": {},
   "outputs": [
    {
     "name": "stderr",
     "output_type": "stream",
     "text": [
      "/var/folders/vd/3qxwhj0s52bfzjbgt10xczn00000gn/T/ipykernel_18890/696954378.py:40: UserWarning: Matplotlib is currently using module://matplotlib_inline.backend_inline, which is a non-GUI backend, so cannot show the figure.\n",
      "  fig.show()\n"
     ]
    },
    {
     "data": {
      "image/png": "[encoded data removed]",
      "text/plain": [
       "<Figure size 1500x450 with 1 Axes>"
      ]
     },
     "metadata": {},
     "output_type": "display_data"
    }
   ],
   "source": [
    "import matplotlib.pyplot as plt\n",
    "import numpy as np\n",
    "import tikzplotlib\n",
    "\n",
    "# Assume your DataFrame is ready\n",
    "df = normalised_df  # or whatever your actual DataFrame is\n",
    "\n",
    "# Plot config\n",
    "benchmarks = df[\"benchmark\"].to_list()\n",
    "x = np.arange(len(benchmarks))\n",
    "width = 0.2\n",
    "\n",
    "# Extract values\n",
    "cps_callstack = df[\"value_cps_callstack_rel\"].to_numpy()\n",
    "cps_callstack_err = df[\"error_cps_callstack_rel\"].to_numpy()\n",
    "cps_aux_stack = df[\"value_cps_aux_stack_rel\"].to_numpy()\n",
    "cps_aux_stack_err = df[\"error_cps_aux_stack_rel\"].to_numpy()\n",
    "java = df[\"value_javaimpl_rel\"].to_numpy()\n",
    "java_err = df[\"error_javaimpl_rel\"].to_numpy()\n",
    "\n",
    "# Plot\n",
    "fig, ax = plt.subplots(figsize=(15, 4.5))  # Wider, flatter aspect\n",
    "bars1 = ax.bar(x - width, cps_callstack, width, yerr=cps_callstack_err, capsize=4, label=\"CPS + Callstack\", color=\"tab:blue\")\n",
    "bars2 = ax.bar(x, cps_aux_stack, width, yerr=cps_aux_stack_err, capsize=4, label=\"CPS + Auxillary Stack\", color=\"tab:red\")\n",
    "bars3 = ax.bar(x + width, java, width, yerr=java_err, capsize=4, label=\"Java\", color=\"tab:orange\")\n",
    "\n",
    "# Labels, legend\n",
    "ax.set_ylabel(\"Relative throughput (normalised to Prog)\")\n",
    "ax.set_xticks(x)\n",
    "ax.set_xticklabels(benchmarks, rotation=45, ha=\"right\")\n",
    "ax.set_ylim(0, max(java.max() + java_err.max(), cps_callstack.max(), cps_callstack_err.max(), cps_aux_stack.max() + cps_aux_stack_err.max()) + 0.2)\n",
    "ax.legend()\n",
    "ax.grid(axis=\"y\", linestyle=\"--\", alpha=0.6)\n",
    "\n",
    "# Tight layout before export\n",
    "fig.tight_layout()\n",
    "\n",
    "# Save to TikZ/PGFPlots\n",
    "tikzplotlib.save(\"relative_throughput_caps_plot.tex\")\n",
    "fig.show()\n"
   ]
  },
  {
   "cell_type": "code",
   "execution_count": 84,
   "metadata": {},
   "outputs": [
    {
     "name": "stdout",
     "output_type": "stream",
     "text": [
      "shape: (20, 6)\n",
      "┌─────────────────────────┬────────────┬───────────┬───────────┬────────┬──────────┐\n",
      "│ benchmark               ┆ metric     ┆ value     ┆ error     ┆ unit   ┆ source   │\n",
      "│ ---                     ┆ ---        ┆ ---       ┆ ---       ┆ ---    ┆ ---      │\n",
      "│ str                     ┆ str        ┆ f64       ┆ f64       ┆ str    ┆ str      │\n",
      "╞═════════════════════════╪════════════╪═══════════╪═══════════╪════════╪══════════╡\n",
      "│ matchAlternationFail    ┆ throughput ┆ 113.943   ┆ 5.49      ┆ ops/ms ┆ prog     │\n",
      "│ matchAlternationHit     ┆ throughput ┆ 98126.628 ┆ 26845.574 ┆ ops/ms ┆ prog     │\n",
      "│ matchAmbiguousBacktrack ┆ throughput ┆ 20876.72  ┆ 1437.961  ┆ ops/ms ┆ prog     │\n",
      "│ matchManyGroup          ┆ throughput ┆ 65286.076 ┆ 24108.195 ┆ ops/ms ┆ prog     │\n",
      "│ matchRepeatingLiteral   ┆ throughput ┆ 4449.933  ┆ 364.188   ┆ ops/ms ┆ prog     │\n",
      "│ …                       ┆ …          ┆ …         ┆ …         ┆ …      ┆ …        │\n",
      "│ matchAlternationFail    ┆ throughput ┆ 26.62     ┆ 1.21      ┆ ops/ms ┆ javaimpl │\n",
      "│ matchAlternationHit     ┆ throughput ┆ 34497.323 ┆ 667.919   ┆ ops/ms ┆ javaimpl │\n",
      "│ matchAmbiguousBacktrack ┆ throughput ┆ 3184.827  ┆ 50.853    ┆ ops/ms ┆ javaimpl │\n",
      "│ matchManyGroup          ┆ throughput ┆ 12100.25  ┆ 1108.585  ┆ ops/ms ┆ javaimpl │\n",
      "│ matchRepeatingLiteral   ┆ throughput ┆ 2476.603  ┆ 154.005   ┆ ops/ms ┆ javaimpl │\n",
      "└─────────────────────────┴────────────┴───────────┴───────────┴────────┴──────────┘\n"
     ]
    }
   ],
   "source": [
    "# do something similar for gc.alloc.rate.norm\n",
    "print(combined_df)\n"
   ]
  },
  {
   "cell_type": "code",
   "execution_count": 85,
   "metadata": {},
   "outputs": [
    {
     "ename": "KeyError",
     "evalue": "'cps'",
     "output_type": "error",
     "traceback": [
      "\u001b[31m---------------------------------------------------------------------------\u001b[39m",
      "\u001b[31mKeyError\u001b[39m                                  Traceback (most recent call last)",
      "\u001b[36mCell\u001b[39m\u001b[36m \u001b[39m\u001b[32mIn[85]\u001b[39m\u001b[32m, line 14\u001b[39m\n\u001b[32m     12\u001b[39m merged = filtered[\u001b[33m\"\u001b[39m\u001b[33mprog\u001b[39m\u001b[33m\"\u001b[39m]\n\u001b[32m     13\u001b[39m \u001b[38;5;28;01mfor\u001b[39;00m name \u001b[38;5;129;01min\u001b[39;00m [\u001b[33m\"\u001b[39m\u001b[33mcps\u001b[39m\u001b[33m\"\u001b[39m, \u001b[33m\"\u001b[39m\u001b[33mjavaimpl\u001b[39m\u001b[33m\"\u001b[39m]:\n\u001b[32m---> \u001b[39m\u001b[32m14\u001b[39m     merged = merged.join(\u001b[43mfiltered\u001b[49m\u001b[43m[\u001b[49m\u001b[43mname\u001b[49m\u001b[43m]\u001b[49m, on=\u001b[33m\"\u001b[39m\u001b[33mbenchmark\u001b[39m\u001b[33m\"\u001b[39m)\n\u001b[32m     16\u001b[39m \u001b[38;5;66;03m# Convert to pandas for plotting\u001b[39;00m\n\u001b[32m     17\u001b[39m benchmarks = merged[\u001b[33m\"\u001b[39m\u001b[33mbenchmark\u001b[39m\u001b[33m\"\u001b[39m].to_list()\n",
      "\u001b[31mKeyError\u001b[39m: 'cps'"
     ]
    }
   ],
   "source": [
    "metric = \"gc.alloc.rate.norm\"\n",
    "filtered = {}\n",
    "\n",
    "for name, df in dfs.items():\n",
    "    filtered[name] = (\n",
    "        df.filter(pl.col(\"metric\") == metric)\n",
    "          .select([\"benchmark\", \"value\", \"error\"])\n",
    "          .rename({\"value\": f\"value_{name}\", \"error\": f\"error_{name}\"})\n",
    "    )\n",
    "\n",
    "# Join all filtered DataFrames on 'benchmark'\n",
    "merged = filtered[\"prog\"]\n",
    "for name in [\"cps\", \"javaimpl\"]:\n",
    "    merged = merged.join(filtered[name], on=\"benchmark\")\n",
    "\n",
    "# Convert to pandas for plotting\n",
    "benchmarks = merged[\"benchmark\"].to_list()\n",
    "x = np.arange(len(benchmarks))\n",
    "width = 0.25\n",
    "\n",
    "# Values and error bars\n",
    "vals_prog = merged[\"value_prog\"].to_numpy()\n",
    "err_prog = merged[\"error_prog\"].to_numpy()\n",
    "vals_cps = merged[\"value_cps\"].to_numpy()\n",
    "err_cps = merged[\"error_cps\"].to_numpy()\n",
    "vals_java = merged[\"value_javaimpl\"].to_numpy()\n",
    "err_java = merged[\"error_javaimpl\"].to_numpy()\n",
    "\n",
    "# Plot\n",
    "fig, ax = plt.subplots(figsize=(10, 5))\n",
    "ax.bar(x - width, vals_prog, width, yerr=err_prog, label=\"Prog\", capsize=4, color=\"tab:green\")\n",
    "ax.bar(x, vals_cps, width, yerr=err_cps, label=\"CPS\", capsize=4, color=\"tab:blue\")\n",
    "ax.bar(x + width, vals_java, width, yerr=err_java, label=\"Java\", capsize=4, color=\"tab:orange\")\n",
    "\n",
    "# Labels\n",
    "ax.set_xticks(x)\n",
    "ax.set_xticklabels(benchmarks, rotation=45, ha=\"right\")\n",
    "ax.set_yscale(\"log\")\n",
    "ax.set_ylabel(\"Bytes allocated per instruction (B/op)\")\n",
    "ax.set_title(\"log bytes allocation per instruction (B/op)\")\n",
    "ax.legend()\n",
    "ax.grid(axis=\"y\", linestyle=\"--\", alpha=0.6)\n",
    "\n",
    "plt.tight_layout()\n",
    "tikzplotlib.save(\"gc_alloc_rate_norm_plot.tex\")\n"
   ]
  },
  {
   "cell_type": "code",
   "execution_count": null,
   "metadata": {},
   "outputs": [],
   "source": []
  }
 ],
 "metadata": {
  "kernelspec": {
   "display_name": "venv",
   "language": "python",
   "name": "python3"
  },
  "language_info": {
   "codemirror_mode": {
    "name": "ipython",
    "version": 3
   },
   "file_extension": ".py",
   "mimetype": "text/x-python",
   "name": "python",
   "nbconvert_exporter": "python",
   "pygments_lexer": "ipython3",
   "version": "3.11.8"
  }
 },
 "nbformat": 4,
 "nbformat_minor": 2
}
